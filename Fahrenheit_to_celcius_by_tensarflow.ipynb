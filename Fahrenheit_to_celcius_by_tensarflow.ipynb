{
  "nbformat": 4,
  "nbformat_minor": 0,
  "metadata": {
    "colab": {
      "provenance": [],
      "authorship_tag": "ABX9TyOPRLp3mwTubXZp/at+RbO6",
      "include_colab_link": true
    },
    "kernelspec": {
      "name": "python3",
      "display_name": "Python 3"
    },
    "language_info": {
      "name": "python"
    }
  },
  "cells": [
    {
      "cell_type": "markdown",
      "metadata": {
        "id": "view-in-github",
        "colab_type": "text"
      },
      "source": [
        "<a href=\"https://colab.research.google.com/github/nileshmalode11/Tensarflow_fahrenheit_to_celcius/blob/main/Fahrenheit_to_celcius_by_tensarflow.ipynb\" target=\"_parent\"><img src=\"https://colab.research.google.com/assets/colab-badge.svg\" alt=\"Open In Colab\"/></a>"
      ]
    },
    {
      "cell_type": "markdown",
      "source": [
        "**Importing The Required libraries**"
      ],
      "metadata": {
        "id": "YkOAmqESYL0g"
      }
    },
    {
      "cell_type": "markdown",
      "source": [
        "**Tensorflow**\n",
        "\n",
        "TensorFlow is an end-to-end open-source machine learning platform with a focus on deep neural networks.TensorFlow provides a diverse and complete set of libraries, tools, and community resources. It allows developers to create and deploy state-of-the-art machine learning-powered applications. One of the most appealing aspects of TensorFlow is that it makes use of Python to create a nice front-end API for developing applications that run in high-performance"
      ],
      "metadata": {
        "id": "d_ivAoQ9a2DI"
      }
    },
    {
      "cell_type": "code",
      "execution_count": null,
      "metadata": {
        "id": "oNv493VMPcln"
      },
      "outputs": [],
      "source": [
        "import tensorflow as tf"
      ]
    },
    {
      "cell_type": "code",
      "source": [
        "import numpy as np\n",
        "import logging\n",
        "logger = tf.get_logger()\n",
        "logger.setLevel(logging.ERROR)"
      ],
      "metadata": {
        "id": "bM-w8-e0PmQd"
      },
      "execution_count": null,
      "outputs": []
    },
    {
      "cell_type": "markdown",
      "source": [
        "**Data Prepration**"
      ],
      "metadata": {
        "id": "JybcK0hSYX0b"
      }
    },
    {
      "cell_type": "code",
      "source": [
        "celsius_q    = np.array([-40, -10,  0,  8, 15, 22,  38, 900, 76, 80, 95, 85, 65, -99],  dtype=float)\n",
        "fahrenheit_a = np.array([-40,  14, 32, 46.4, 59, 71.6, 100.4, 1652, 168.8, 176, 203, 185, 149, -146.2],  dtype=float)\n",
        "\n",
        "for i,c in enumerate(celsius_q):\n",
        "  print(\"{} degrees Celsius = {} degrees Fahrenheit\".format(c, fahrenheit_a[i]))\n"
      ],
      "metadata": {
        "colab": {
          "base_uri": "https://localhost:8080/"
        },
        "id": "9m02uQ_tPmEC",
        "outputId": "9227ff0c-228b-452e-e653-59699e0e2043"
      },
      "execution_count": null,
      "outputs": [
        {
          "output_type": "stream",
          "name": "stdout",
          "text": [
            "-40.0 degrees Celsius = -40.0 degrees Fahrenheit\n",
            "-10.0 degrees Celsius = 14.0 degrees Fahrenheit\n",
            "0.0 degrees Celsius = 32.0 degrees Fahrenheit\n",
            "8.0 degrees Celsius = 46.4 degrees Fahrenheit\n",
            "15.0 degrees Celsius = 59.0 degrees Fahrenheit\n",
            "22.0 degrees Celsius = 71.6 degrees Fahrenheit\n",
            "38.0 degrees Celsius = 100.4 degrees Fahrenheit\n"
          ]
        }
      ]
    },
    {
      "cell_type": "markdown",
      "source": [
        "**Create a layer**"
      ],
      "metadata": {
        "id": "qf0awr3mY1-4"
      }
    },
    {
      "cell_type": "code",
      "source": [
        "l0 = tf.keras.layers.Dense(units=1, input_shape=[1])"
      ],
      "metadata": {
        "id": "x_4Xhi-OQCcg"
      },
      "execution_count": null,
      "outputs": []
    },
    {
      "cell_type": "markdown",
      "source": [
        "**Import The Model**"
      ],
      "metadata": {
        "id": "l3fKiEqaY33j"
      }
    },
    {
      "cell_type": "code",
      "source": [
        "model = tf.keras.Sequential([l0])"
      ],
      "metadata": {
        "id": "7VERBeb8Pl_m"
      },
      "execution_count": null,
      "outputs": []
    },
    {
      "cell_type": "markdown",
      "source": [
        "**Model Compling**"
      ],
      "metadata": {
        "id": "oL-uj_kVY9cU"
      }
    },
    {
      "cell_type": "code",
      "source": [
        "model.compile(loss='mean_squared_error',\n",
        "              optimizer=tf.keras.optimizers.Adam(0.1))"
      ],
      "metadata": {
        "id": "hGZ6qrTCQOVQ"
      },
      "execution_count": null,
      "outputs": []
    },
    {
      "cell_type": "markdown",
      "source": [
        "**Train The Model**"
      ],
      "metadata": {
        "id": "NWbszjnkZDax"
      }
    },
    {
      "cell_type": "code",
      "source": [
        "history = model.fit(celsius_q, fahrenheit_a, epochs=600, verbose=False)\n",
        "print(\"Finished training the model\")"
      ],
      "metadata": {
        "colab": {
          "base_uri": "https://localhost:8080/"
        },
        "id": "CfdUoFCQPl-G",
        "outputId": "b8cfbb1b-6161-4d83-cae1-16422dc5a159"
      },
      "execution_count": null,
      "outputs": [
        {
          "output_type": "stream",
          "name": "stdout",
          "text": [
            "Finished training the model\n"
          ]
        }
      ]
    },
    {
      "cell_type": "markdown",
      "source": [
        "**Visualize the Loss**"
      ],
      "metadata": {
        "id": "MImjD1jCZKQN"
      }
    },
    {
      "cell_type": "code",
      "source": [
        "import matplotlib.pyplot as plt\n",
        "plt.xlabel('Epoch Number')\n",
        "plt.ylabel(\"Loss Magnitude\")\n",
        "plt.plot(history.history['loss'])\n"
      ],
      "metadata": {
        "colab": {
          "base_uri": "https://localhost:8080/",
          "height": 467
        },
        "id": "hbPQn1IqQH9H",
        "outputId": "fdd0f265-6c1d-4f6b-bc28-57b789fca763"
      },
      "execution_count": null,
      "outputs": [
        {
          "output_type": "execute_result",
          "data": {
            "text/plain": [
              "[<matplotlib.lines.Line2D at 0x7fc529637610>]"
            ]
          },
          "metadata": {},
          "execution_count": 26
        },
        {
          "output_type": "display_data",
          "data": {
            "text/plain": [
              "<Figure size 640x480 with 1 Axes>"
            ],
            "image/png": "[encoded data removed]"
          },
          "metadata": {}
        }
      ]
    },
    {
      "cell_type": "markdown",
      "source": [
        "**Model Prediction**"
      ],
      "metadata": {
        "id": "0gJ7YzQbZPxc"
      }
    },
    {
      "cell_type": "code",
      "source": [
        "print(model.predict([100.0]))"
      ],
      "metadata": {
        "colab": {
          "base_uri": "https://localhost:8080/"
        },
        "id": "lmhixpMsQUWt",
        "outputId": "e28f8c64-a8a6-405d-8815-86b4fdc861bb"
      },
      "execution_count": null,
      "outputs": [
        {
          "output_type": "stream",
          "name": "stdout",
          "text": [
            "1/1 [==============================] - 0s 43ms/step\n",
            "[[211.75093]]\n"
          ]
        }
      ]
    },
    {
      "cell_type": "code",
      "source": [
        "print(\"These are the layer variables: {}\".format(l0.get_weights()))"
      ],
      "metadata": {
        "colab": {
          "base_uri": "https://localhost:8080/"
        },
        "id": "s3UZa5oiQYRT",
        "outputId": "a683e6b1-a5d1-450b-a1bb-44bc0f0cceb9"
      },
      "execution_count": null,
      "outputs": [
        {
          "output_type": "stream",
          "name": "stdout",
          "text": [
            "These are the layer variables: [array([[1.8166643]], dtype=float32), array([30.0845], dtype=float32)]\n"
          ]
        }
      ]
    },
    {
      "cell_type": "markdown",
      "source": [
        "**Train The Model By Multilayer**"
      ],
      "metadata": {
        "id": "hl8H9wF9ZqC0"
      }
    },
    {
      "cell_type": "code",
      "source": [
        "l0 = tf.keras.layers.Dense(units=6, input_shape=[1])\n",
        "l1 = tf.keras.layers.Dense(units=6)\n",
        "l2 = tf.keras.layers.Dense(units=1)\n",
        "model = tf.keras.Sequential([l0, l1, l2])\n",
        "model.compile(loss='mean_squared_error', optimizer=tf.keras.optimizers.Adam(0.1))\n",
        "model.fit(celsius_q, fahrenheit_a, epochs=500, verbose=False)\n",
        "print(\"Finished training the model\")\n",
        "print(model.predict([100.0]))\n",
        "print(\"Model predicts that 100 degrees Celsius is: {} degrees Fahrenheit\".format(model.predict([100.0])))\n",
        "print(\"These are the l0 variables: {}\".format(l0.get_weights()))\n",
        "print(\"These are the l1 variables: {}\".format(l1.get_weights()))\n",
        "print(\"These are the l2 variables: {}\".format(l2.get_weights()))"
      ],
      "metadata": {
        "colab": {
          "base_uri": "https://localhost:8080/"
        },
        "id": "7sYVE2dMU1ed",
        "outputId": "50ddd1cf-7097-477c-ceea-9d7972f72e8c"
      },
      "execution_count": null,
      "outputs": [
        {
          "output_type": "stream",
          "name": "stdout",
          "text": [
            "Finished training the model\n",
            "1/1 [==============================] - 0s 210ms/step\n",
            "[[211.99995]]\n",
            "1/1 [==============================] - 0s 132ms/step\n",
            "Model predicts that 100 degrees Celsius is: [[211.99995]] degrees Fahrenheit\n",
            "These are the l0 variables: [array([[ 0.30708516, -0.38077796,  0.3756276 ,  0.22079149, -0.06265267,\n",
            "        -0.12019211]], dtype=float32), array([ 2.704323 , -2.876864 ,  2.7888138,  2.8063538,  2.3954988,\n",
            "        1.1242166], dtype=float32)]\n",
            "These are the l1 variables: [array([[ 0.59058964,  0.40978682,  0.7256565 , -0.7556495 , -0.03557556,\n",
            "         0.43097717],\n",
            "       [-0.16647859,  0.25963175, -0.34127384,  0.7651385 ,  0.7857324 ,\n",
            "         0.41385955],\n",
            "       [ 0.7107022 ,  0.931749  , -0.39951953, -0.08282655, -0.39528346,\n",
            "         0.23770626],\n",
            "       [ 0.53454626,  0.030897  ,  0.9431163 ,  0.20995234, -0.62701637,\n",
            "         0.20459561],\n",
            "       [ 0.2421216 ,  0.3479512 , -0.09477693, -0.5601856 , -0.62567127,\n",
            "        -0.80648255],\n",
            "       [ 0.02054981,  0.18209025, -0.01846083,  0.30479833, -0.68631566,\n",
            "        -0.59672207]], dtype=float32), array([ 2.7442431,  2.1831076,  2.247496 , -2.6698937, -2.8005924,\n",
            "        1.1448156], dtype=float32)]\n",
            "These are the l2 variables: [array([[ 1.0088497 ],\n",
            "       [ 0.47457913],\n",
            "       [ 0.42232767],\n",
            "       [-0.88093406],\n",
            "       [-0.77202636],\n",
            "       [ 0.12139482]], dtype=float32), array([2.735844], dtype=float32)]\n"
          ]
        }
      ]
    },
    {
      "cell_type": "code",
      "source": [],
      "metadata": {
        "id": "hy_O7x9XXBsR"
      },
      "execution_count": null,
      "outputs": []
    }
  ]
}